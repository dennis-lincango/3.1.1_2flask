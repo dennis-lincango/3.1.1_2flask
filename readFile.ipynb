{
 "cells": [
  {
   "cell_type": "code",
   "id": "initial_id",
   "metadata": {
    "collapsed": true,
    "ExecuteTime": {
     "end_time": "2025-05-09T01:30:57.354701Z",
     "start_time": "2025-05-09T01:30:57.342619Z"
    }
   },
   "source": [
    "import pandas as pd\n",
    "import requests\n"
   ],
   "outputs": [],
   "execution_count": 5
  },
  {
   "metadata": {
    "ExecuteTime": {
     "end_time": "2025-05-09T01:30:57.370700Z",
     "start_time": "2025-05-09T01:30:57.360204Z"
    }
   },
   "cell_type": "code",
   "source": "df = pd.read_csv('frases_200_unicas.csv')\n",
   "id": "484a394729e3c9b2",
   "outputs": [],
   "execution_count": 6
  },
  {
   "metadata": {
    "ExecuteTime": {
     "end_time": "2025-05-09T01:30:57.401411Z",
     "start_time": "2025-05-09T01:30:57.388304Z"
    }
   },
   "cell_type": "code",
   "source": "df.head()\n",
   "id": "83a779cab2f6c0ae",
   "outputs": [
    {
     "data": {
      "text/plain": [
       "                                                           frase\n",
       "Qué tal         la clase fue muy interesante. agradezco su at...\n",
       "Hola                      no recomiendo este lugar. quedo atento\n",
       "Hola                           no recomiendo este lugar. gracias\n",
       "Buenas tardes        el sistema está funcionando bien. nos vemos\n",
       "Hola                   la aplicación tiene errores. quedo atento"
      ],
      "text/html": [
       "<div>\n",
       "<style scoped>\n",
       "    .dataframe tbody tr th:only-of-type {\n",
       "        vertical-align: middle;\n",
       "    }\n",
       "\n",
       "    .dataframe tbody tr th {\n",
       "        vertical-align: top;\n",
       "    }\n",
       "\n",
       "    .dataframe thead th {\n",
       "        text-align: right;\n",
       "    }\n",
       "</style>\n",
       "<table border=\"1\" class=\"dataframe\">\n",
       "  <thead>\n",
       "    <tr style=\"text-align: right;\">\n",
       "      <th></th>\n",
       "      <th>frase</th>\n",
       "    </tr>\n",
       "  </thead>\n",
       "  <tbody>\n",
       "    <tr>\n",
       "      <th>Qué tal</th>\n",
       "      <td>la clase fue muy interesante. agradezco su at...</td>\n",
       "    </tr>\n",
       "    <tr>\n",
       "      <th>Hola</th>\n",
       "      <td>no recomiendo este lugar. quedo atento</td>\n",
       "    </tr>\n",
       "    <tr>\n",
       "      <th>Hola</th>\n",
       "      <td>no recomiendo este lugar. gracias</td>\n",
       "    </tr>\n",
       "    <tr>\n",
       "      <th>Buenas tardes</th>\n",
       "      <td>el sistema está funcionando bien. nos vemos</td>\n",
       "    </tr>\n",
       "    <tr>\n",
       "      <th>Hola</th>\n",
       "      <td>la aplicación tiene errores. quedo atento</td>\n",
       "    </tr>\n",
       "  </tbody>\n",
       "</table>\n",
       "</div>"
      ]
     },
     "execution_count": 7,
     "metadata": {},
     "output_type": "execute_result"
    }
   ],
   "execution_count": 7
  },
  {
   "metadata": {
    "ExecuteTime": {
     "end_time": "2025-05-09T01:34:47.071986Z",
     "start_time": "2025-05-09T01:34:46.158244Z"
    }
   },
   "cell_type": "code",
   "source": [
    "def obtener_prediccion(mensaje):\n",
    "    url = f\"http://127.0.0.1:8080/predict/{mensaje}\"\n",
    "    response = requests.get(url)\n",
    "    return response.json().get('prediction', [None])[0]\n",
    "\n",
    "df['prediccion'] = df.iloc[:, 0].apply(obtener_prediccion)\n",
    "print(df.head())"
   ],
   "id": "54903967e18a1eca",
   "outputs": [
    {
     "name": "stdout",
     "output_type": "stream",
     "text": [
      "                                                           frase prediccion\n",
      "Qué tal         la clase fue muy interesante. agradezco su at...          P\n",
      "Hola                      no recomiendo este lugar. quedo atento          P\n",
      "Hola                           no recomiendo este lugar. gracias          P\n",
      "Buenas tardes        el sistema está funcionando bien. nos vemos          P\n",
      "Hola                   la aplicación tiene errores. quedo atento       NONE\n"
     ]
    }
   ],
   "execution_count": 10
  },
  {
   "metadata": {
    "ExecuteTime": {
     "end_time": "2025-05-09T01:36:01.481644Z",
     "start_time": "2025-05-09T01:36:01.462128Z"
    }
   },
   "cell_type": "code",
   "source": "df.to_csv('frases_200_unicas_con_prediccion.csv', index=False)",
   "id": "bfdf44346c251f96",
   "outputs": [],
   "execution_count": 12
  },
  {
   "metadata": {},
   "cell_type": "code",
   "outputs": [],
   "execution_count": null,
   "source": "",
   "id": "3b45b8c3893af96a"
  }
 ],
 "metadata": {
  "kernelspec": {
   "display_name": "Python 3",
   "language": "python",
   "name": "python3"
  },
  "language_info": {
   "codemirror_mode": {
    "name": "ipython",
    "version": 2
   },
   "file_extension": ".py",
   "mimetype": "text/x-python",
   "name": "python",
   "nbconvert_exporter": "python",
   "pygments_lexer": "ipython2",
   "version": "2.7.6"
  }
 },
 "nbformat": 4,
 "nbformat_minor": 5
}
